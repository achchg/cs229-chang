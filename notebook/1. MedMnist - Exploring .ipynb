{
 "cells": [
  {
   "cell_type": "markdown",
   "id": "954d3893",
   "metadata": {},
   "source": [
    "## MedMnist Dataset\n",
    "\n",
    "Followed example notebook from MedMNIST here:\n",
    "https://github.com/MedMNIST/MedMNIST/blob/main/examples/getting_started.ipynb"
   ]
  },
  {
   "cell_type": "code",
   "execution_count": 1,
   "id": "a9f2eab0",
   "metadata": {},
   "outputs": [],
   "source": [
    "from collections import defaultdict\n",
    "import time\n",
    "import os\n",
    "\n",
    "import numpy as np\n",
    "\n",
    "from tqdm import tqdm\n",
    "\n",
    "import torch\n",
    "from torchvision import transforms\n",
    "from torch.utils.data import DataLoader\n",
    "from torch import autograd, optim\n",
    "import torch.backends.cudnn as cudnn\n",
    "import torch.nn as nn\n",
    "\n",
    "import torchvision.utils as vutils\n",
    "\n",
    "cudnn.benchmark = True\n",
    "import matplotlib.pyplot as plt\n",
    "%matplotlib inline"
   ]
  },
  {
   "cell_type": "code",
   "execution_count": 2,
   "id": "0a0425d9",
   "metadata": {},
   "outputs": [],
   "source": [
    "import medmnist\n",
    "from medmnist import INFO, Evaluator"
   ]
  },
  {
   "cell_type": "code",
   "execution_count": 3,
   "id": "238dee60",
   "metadata": {},
   "outputs": [
    {
     "name": "stdout",
     "output_type": "stream",
     "text": [
      "MedMNIST v2.0.2 @ https://github.com/MedMNIST/MedMNIST/\n"
     ]
    }
   ],
   "source": [
    "print(f\"MedMNIST v{medmnist.__version__} @ {medmnist.HOMEPAGE}\")"
   ]
  },
  {
   "cell_type": "markdown",
   "id": "c2cd4a6e",
   "metadata": {},
   "source": [
    "Check what are in the INFO:"
   ]
  },
  {
   "cell_type": "code",
   "execution_count": 7,
   "id": "66facae1",
   "metadata": {},
   "outputs": [
    {
     "name": "stdout",
     "output_type": "stream",
     "text": [
      "<class 'dict'>\n"
     ]
    }
   ],
   "source": [
    "print(type(INFO))"
   ]
  },
  {
   "cell_type": "code",
   "execution_count": 8,
   "id": "601c0555",
   "metadata": {},
   "outputs": [
    {
     "name": "stdout",
     "output_type": "stream",
     "text": [
      "dict_keys(['pathmnist', 'chestmnist', 'dermamnist', 'octmnist', 'pneumoniamnist', 'retinamnist', 'breastmnist', 'bloodmnist', 'tissuemnist', 'organamnist', 'organcmnist', 'organsmnist', 'organmnist3d', 'nodulemnist3d', 'adrenalmnist3d', 'fracturemnist3d', 'vesselmnist3d', 'synapsemnist3d']) 18\n"
     ]
    }
   ],
   "source": [
    "print(INFO.keys(), len(INFO.keys()))\n",
    "# Looks like 18 datasets available, 6 3D"
   ]
  },
  {
   "cell_type": "code",
   "execution_count": 9,
   "id": "65c36d2c",
   "metadata": {},
   "outputs": [
    {
     "data": {
      "text/plain": [
       "{'python_class': 'PathMNIST',\n",
       " 'description': 'The PathMNIST is based on a prior study for predicting survival from colorectal cancer histology slides, providing a dataset (NCT-CRC-HE-100K) of 100,000 non-overlapping image patches from hematoxylin & eosin stained histological images, and a test dataset (CRC-VAL-HE-7K) of 7,180 image patches from a different clinical center. The dataset is comprised of 9 types of tissues, resulting in a multi-class classification task. We resize the source images of 3×224×224 into 3×28×28, and split NCT-CRC-HE-100K into training and validation set with a ratio of 9:1. The CRC-VAL-HE-7K is treated as the test set.',\n",
       " 'url': 'https://zenodo.org/record/5208230/files/pathmnist.npz?download=1',\n",
       " 'MD5': 'a8b06965200029087d5bd730944a56c1',\n",
       " 'task': 'multi-class',\n",
       " 'label': {'0': 'adipose',\n",
       "  '1': 'background',\n",
       "  '2': 'debris',\n",
       "  '3': 'lymphocytes',\n",
       "  '4': 'mucus',\n",
       "  '5': 'smooth muscle',\n",
       "  '6': 'normal colon mucosa',\n",
       "  '7': 'cancer-associated stroma',\n",
       "  '8': 'colorectal adenocarcinoma epithelium'},\n",
       " 'n_channels': 3,\n",
       " 'n_samples': {'train': 89996, 'val': 10004, 'test': 7180},\n",
       " 'license': 'CC BY 4.0'}"
      ]
     },
     "execution_count": 9,
     "metadata": {},
     "output_type": "execute_result"
    }
   ],
   "source": [
    "INFO['pathmnist']\n",
    "# Print out one of the dataset to observe the structure"
   ]
  },
  {
   "cell_type": "code",
   "execution_count": 9,
   "id": "f431caa0",
   "metadata": {},
   "outputs": [],
   "source": [
    "data_flag = 'pathmnist'\n",
    "download = True\n",
    "\n",
    "NUM_EPOCHS = 3\n",
    "BATCH_SIZE = 128\n",
    "lr = 0.001\n",
    "\n",
    "info = INFO[data_flag]\n",
    "task = info['task']\n",
    "n_channels = info['n_channels']\n",
    "n_classes = len(info['label'])\n",
    "\n",
    "DataClass = getattr(medmnist, info['python_class'])"
   ]
  },
  {
   "cell_type": "code",
   "execution_count": 11,
   "id": "2ff48013",
   "metadata": {},
   "outputs": [
    {
     "name": "stdout",
     "output_type": "stream",
     "text": [
      "Using downloaded and verified file: /Users/chi-hsuanchang/.medmnist/pathmnist.npz\n",
      "Using downloaded and verified file: /Users/chi-hsuanchang/.medmnist/pathmnist.npz\n",
      "Using downloaded and verified file: /Users/chi-hsuanchang/.medmnist/pathmnist.npz\n"
     ]
    }
   ],
   "source": [
    "# preprocessing\n",
    "data_transform = transforms.Compose([\n",
    "    transforms.ToTensor(),\n",
    "    transforms.Normalize(mean=[.5], std=[.5])\n",
    "])\n",
    "\n",
    "# load the data\n",
    "train_dataset = DataClass(split='train', transform=data_transform, download=download)\n",
    "test_dataset = DataClass(split='test', transform=data_transform, download=download)\n",
    "\n",
    "pil_dataset = DataClass(split='train', download=download)\n",
    "\n",
    "# encapsulate data into dataloader form\n",
    "train_loader = DataLoader(dataset=train_dataset, \n",
    "                               batch_size=BATCH_SIZE, \n",
    "                               shuffle=True)\n",
    "\n",
    "train_loader_at_eval = DataLoader(dataset=train_dataset, \n",
    "                                       batch_size=2*BATCH_SIZE, \n",
    "                                       shuffle=False)\n",
    "\n",
    "test_loader = DataLoader(dataset=test_dataset, \n",
    "                              batch_size=2*BATCH_SIZE, \n",
    "                              shuffle=False)"
   ]
  },
  {
   "cell_type": "code",
   "execution_count": 31,
   "id": "48271e93",
   "metadata": {},
   "outputs": [
    {
     "name": "stderr",
     "output_type": "stream",
     "text": [
      "/Users/chi-hsuanchang/opt/miniconda3/envs/local_gan/lib/python3.8/site-packages/medmnist/utils.py:25: FutureWarning: `multichannel` is a deprecated argument name for `montage`. It will be removed in version 1.0. Please use `channel_axis` instead.\n",
      "  montage_arr = skimage_montage(sel_img, multichannel=(n_channels == 3))\n"
     ]
    },
    {
     "data": {
      "image/png": "[encoded data removed]",
      "text/plain": [
       "<PIL.Image.Image image mode=RGB size=56x56>"
      ]
     },
     "execution_count": 31,
     "metadata": {},
     "output_type": "execute_result"
    }
   ],
   "source": [
    "# visualization\n",
    "train_dataset.montage(length=2)"
   ]
  },
  {
   "cell_type": "code",
   "execution_count": 34,
   "id": "958f0773",
   "metadata": {},
   "outputs": [
    {
     "name": "stdout",
     "output_type": "stream",
     "text": [
      "def montage2d(imgs, n_channels, sel):\n",
      "\n",
      "    sel_img = imgs[sel]\n",
      "    montage_arr = skimage_montage(sel_img, multichannel=(n_channels == 3))\n",
      "    montage_img = Image.fromarray(montage_arr)\n",
      "\n",
      "    return montage_img\n",
      "\n"
     ]
    }
   ],
   "source": [
    "print(inspect.getsource(medmnist.utils.montage2d))"
   ]
  },
  {
   "cell_type": "code",
   "execution_count": 29,
   "id": "9fcf68f1",
   "metadata": {},
   "outputs": [
    {
     "name": "stdout",
     "output_type": "stream",
     "text": [
      "class MedMNIST2D(MedMNIST):\n",
      "\n",
      "    def __getitem__(self, index):\n",
      "        '''\n",
      "        return: (without transform/target_transofrm)\n",
      "            img: PIL.Image\n",
      "            target: np.array of `L` (L=1 for single-label)\n",
      "        '''\n",
      "        img, target = self.imgs[index], self.labels[index].astype(int)\n",
      "        img = Image.fromarray(img)\n",
      "\n",
      "        if self.as_rgb:\n",
      "            img = img.convert('RGB')\n",
      "\n",
      "        if self.transform is not None:\n",
      "            img = self.transform(img)\n",
      "\n",
      "        if self.target_transform is not None:\n",
      "            target = self.target_transform(target)\n",
      "\n",
      "        return img, target\n",
      "\n",
      "    def save(self, folder, postfix=\"png\", write_csv=True):\n",
      "\n",
      "        from medmnist.utils import save2d\n",
      "\n",
      "        save2d(imgs=self.imgs,\n",
      "               labels=self.labels,\n",
      "               img_folder=os.path.join(folder, self.flag),\n",
      "               split=self.split,\n",
      "               postfix=postfix,\n",
      "               csv_path=os.path.join(folder, f\"{self.flag}.csv\") if write_csv else None)\n",
      "\n",
      "    def montage(self, length=20, replace=False, save_folder=None):\n",
      "        from medmnist.utils import montage2d\n",
      "\n",
      "        n_sel = length * length\n",
      "        sel = np.random.choice(self.__len__(), size=n_sel, replace=replace)\n",
      "\n",
      "        montage_img = montage2d(imgs=self.imgs,\n",
      "                                n_channels=self.info['n_channels'],\n",
      "                                sel=sel)\n",
      "\n",
      "        if save_folder is not None:\n",
      "            if not os.path.exists(save_folder):\n",
      "                os.makedirs(save_folder)\n",
      "            montage_img.save(os.path.join(save_folder,\n",
      "                                          f\"{self.flag}_{self.split}_montage.jpg\"))\n",
      "\n",
      "        return montage_img\n",
      "\n"
     ]
    }
   ],
   "source": [
    "import inspect\n",
    "print(inspect.getsource(medmnist.dataset.MedMNIST2D))"
   ]
  },
  {
   "cell_type": "code",
   "execution_count": 39,
   "id": "9496c4d0",
   "metadata": {
    "scrolled": false
   },
   "outputs": [
    {
     "name": "stdout",
     "output_type": "stream",
     "text": [
      "class Conv2d(_ConvNd):\n",
      "    __doc__ = r\"\"\"Applies a 2D convolution over an input signal composed of several input\n",
      "    planes.\n",
      "\n",
      "    In the simplest case, the output value of the layer with input size\n",
      "    :math:`(N, C_{\\text{in}}, H, W)` and output :math:`(N, C_{\\text{out}}, H_{\\text{out}}, W_{\\text{out}})`\n",
      "    can be precisely described as:\n",
      "\n",
      "    .. math::\n",
      "        \\text{out}(N_i, C_{\\text{out}_j}) = \\text{bias}(C_{\\text{out}_j}) +\n",
      "        \\sum_{k = 0}^{C_{\\text{in}} - 1} \\text{weight}(C_{\\text{out}_j}, k) \\star \\text{input}(N_i, k)\n",
      "\n",
      "\n",
      "    where :math:`\\star` is the valid 2D `cross-correlation`_ operator,\n",
      "    :math:`N` is a batch size, :math:`C` denotes a number of channels,\n",
      "    :math:`H` is a height of input planes in pixels, and :math:`W` is\n",
      "    width in pixels.\n",
      "    \"\"\" + r\"\"\"\n",
      "\n",
      "    This module supports :ref:`TensorFloat32<tf32_on_ampere>`.\n",
      "\n",
      "    * :attr:`stride` controls the stride for the cross-correlation, a single\n",
      "      number or a tuple.\n",
      "\n",
      "    * :attr:`padding` controls the amount of padding applied to the input. It\n",
      "      can be either a string {{'valid', 'same'}} or a tuple of ints giving the\n",
      "      amount of implicit padding applied on both sides.\n",
      "\n",
      "    * :attr:`dilation` controls the spacing between the kernel points; also\n",
      "      known as the à trous algorithm. It is harder to describe, but this `link`_\n",
      "      has a nice visualization of what :attr:`dilation` does.\n",
      "\n",
      "    {groups_note}\n",
      "\n",
      "    The parameters :attr:`kernel_size`, :attr:`stride`, :attr:`padding`, :attr:`dilation` can either be:\n",
      "\n",
      "        - a single ``int`` -- in which case the same value is used for the height and width dimension\n",
      "        - a ``tuple`` of two ints -- in which case, the first `int` is used for the height dimension,\n",
      "          and the second `int` for the width dimension\n",
      "\n",
      "    Note:\n",
      "        {depthwise_separable_note}\n",
      "\n",
      "    Note:\n",
      "        {cudnn_reproducibility_note}\n",
      "\n",
      "    Note:\n",
      "        ``padding='valid'`` is the same as no padding. ``padding='same'`` pads\n",
      "        the input so the output has the shape as the input. However, this mode\n",
      "        doesn't support any stride values other than 1.\n",
      "\n",
      "    Args:\n",
      "        in_channels (int): Number of channels in the input image\n",
      "        out_channels (int): Number of channels produced by the convolution\n",
      "        kernel_size (int or tuple): Size of the convolving kernel\n",
      "        stride (int or tuple, optional): Stride of the convolution. Default: 1\n",
      "        padding (int, tuple or str, optional): Padding added to all four sides of\n",
      "            the input. Default: 0\n",
      "        padding_mode (string, optional): ``'zeros'``, ``'reflect'``,\n",
      "            ``'replicate'`` or ``'circular'``. Default: ``'zeros'``\n",
      "        dilation (int or tuple, optional): Spacing between kernel elements. Default: 1\n",
      "        groups (int, optional): Number of blocked connections from input\n",
      "            channels to output channels. Default: 1\n",
      "        bias (bool, optional): If ``True``, adds a learnable bias to the\n",
      "            output. Default: ``True``\n",
      "    \"\"\".format(**reproducibility_notes, **convolution_notes) + r\"\"\"\n",
      "\n",
      "    Shape:\n",
      "        - Input: :math:`(N, C_{in}, H_{in}, W_{in})` or :math:`(C_{in}, H_{in}, W_{in})`\n",
      "        - Output: :math:`(N, C_{out}, H_{out}, W_{out})` or :math:`(C_{out}, H_{out}, W_{out})`, where\n",
      "\n",
      "          .. math::\n",
      "              H_{out} = \\left\\lfloor\\frac{H_{in}  + 2 \\times \\text{padding}[0] - \\text{dilation}[0]\n",
      "                        \\times (\\text{kernel\\_size}[0] - 1) - 1}{\\text{stride}[0]} + 1\\right\\rfloor\n",
      "\n",
      "          .. math::\n",
      "              W_{out} = \\left\\lfloor\\frac{W_{in}  + 2 \\times \\text{padding}[1] - \\text{dilation}[1]\n",
      "                        \\times (\\text{kernel\\_size}[1] - 1) - 1}{\\text{stride}[1]} + 1\\right\\rfloor\n",
      "\n",
      "    Attributes:\n",
      "        weight (Tensor): the learnable weights of the module of shape\n",
      "            :math:`(\\text{out\\_channels}, \\frac{\\text{in\\_channels}}{\\text{groups}},`\n",
      "            :math:`\\text{kernel\\_size[0]}, \\text{kernel\\_size[1]})`.\n",
      "            The values of these weights are sampled from\n",
      "            :math:`\\mathcal{U}(-\\sqrt{k}, \\sqrt{k})` where\n",
      "            :math:`k = \\frac{groups}{C_\\text{in} * \\prod_{i=0}^{1}\\text{kernel\\_size}[i]}`\n",
      "        bias (Tensor):   the learnable bias of the module of shape\n",
      "            (out_channels). If :attr:`bias` is ``True``,\n",
      "            then the values of these weights are\n",
      "            sampled from :math:`\\mathcal{U}(-\\sqrt{k}, \\sqrt{k})` where\n",
      "            :math:`k = \\frac{groups}{C_\\text{in} * \\prod_{i=0}^{1}\\text{kernel\\_size}[i]}`\n",
      "\n",
      "    Examples:\n",
      "\n",
      "        >>> # With square kernels and equal stride\n",
      "        >>> m = nn.Conv2d(16, 33, 3, stride=2)\n",
      "        >>> # non-square kernels and unequal stride and with padding\n",
      "        >>> m = nn.Conv2d(16, 33, (3, 5), stride=(2, 1), padding=(4, 2))\n",
      "        >>> # non-square kernels and unequal stride and with padding and dilation\n",
      "        >>> m = nn.Conv2d(16, 33, (3, 5), stride=(2, 1), padding=(4, 2), dilation=(3, 1))\n",
      "        >>> input = torch.randn(20, 16, 50, 100)\n",
      "        >>> output = m(input)\n",
      "\n",
      "    .. _cross-correlation:\n",
      "        https://en.wikipedia.org/wiki/Cross-correlation\n",
      "\n",
      "    .. _link:\n",
      "        https://github.com/vdumoulin/conv_arithmetic/blob/master/README.md\n",
      "    \"\"\"\n",
      "\n",
      "    def __init__(\n",
      "        self,\n",
      "        in_channels: int,\n",
      "        out_channels: int,\n",
      "        kernel_size: _size_2_t,\n",
      "        stride: _size_2_t = 1,\n",
      "        padding: Union[str, _size_2_t] = 0,\n",
      "        dilation: _size_2_t = 1,\n",
      "        groups: int = 1,\n",
      "        bias: bool = True,\n",
      "        padding_mode: str = 'zeros',  # TODO: refine this type\n",
      "        device=None,\n",
      "        dtype=None\n",
      "    ) -> None:\n",
      "        factory_kwargs = {'device': device, 'dtype': dtype}\n",
      "        kernel_size_ = _pair(kernel_size)\n",
      "        stride_ = _pair(stride)\n",
      "        padding_ = padding if isinstance(padding, str) else _pair(padding)\n",
      "        dilation_ = _pair(dilation)\n",
      "        super(Conv2d, self).__init__(\n",
      "            in_channels, out_channels, kernel_size_, stride_, padding_, dilation_,\n",
      "            False, _pair(0), groups, bias, padding_mode, **factory_kwargs)\n",
      "\n",
      "    def _conv_forward(self, input: Tensor, weight: Tensor, bias: Optional[Tensor]):\n",
      "        if self.padding_mode != 'zeros':\n",
      "            return F.conv2d(F.pad(input, self._reversed_padding_repeated_twice, mode=self.padding_mode),\n",
      "                            weight, bias, self.stride,\n",
      "                            _pair(0), self.dilation, self.groups)\n",
      "        return F.conv2d(input, weight, bias, self.stride,\n",
      "                        self.padding, self.dilation, self.groups)\n",
      "\n",
      "    def forward(self, input: Tensor) -> Tensor:\n",
      "        return self._conv_forward(input, self.weight, self.bias)\n",
      "\n"
     ]
    }
   ],
   "source": [
    "print(inspect.getsource(nn.Conv2d))"
   ]
  },
  {
   "cell_type": "code",
   "execution_count": 36,
   "id": "1b746223",
   "metadata": {},
   "outputs": [],
   "source": [
    "# define a simple CNN model\n",
    "\n",
    "class Net(nn.Module):\n",
    "    def __init__(self, in_channels, num_classes):\n",
    "        super(Net, self).__init__()\n",
    "\n",
    "        self.layer1 = nn.Sequential(\n",
    "            nn.Conv2d(in_channels, 16, kernel_size=3),\n",
    "            nn.BatchNorm2d(16),\n",
    "            nn.ReLU())\n",
    "\n",
    "        self.layer2 = nn.Sequential(\n",
    "            nn.Conv2d(16, 16, kernel_size=3),\n",
    "            nn.BatchNorm2d(16),\n",
    "            nn.ReLU(),\n",
    "            nn.MaxPool2d(kernel_size=2, stride=2))\n",
    "\n",
    "        self.layer3 = nn.Sequential(\n",
    "            nn.Conv2d(16, 64, kernel_size=3),\n",
    "            nn.BatchNorm2d(64),\n",
    "            nn.ReLU())\n",
    "        \n",
    "        self.layer4 = nn.Sequential(\n",
    "            nn.Conv2d(64, 64, kernel_size=3),\n",
    "            nn.BatchNorm2d(64),\n",
    "            nn.ReLU())\n",
    "\n",
    "        self.layer5 = nn.Sequential(\n",
    "            nn.Conv2d(64, 64, kernel_size=3, padding=1),\n",
    "            nn.BatchNorm2d(64),\n",
    "            nn.ReLU(),\n",
    "            nn.MaxPool2d(kernel_size=2, stride=2))\n",
    "\n",
    "        self.fc = nn.Sequential(\n",
    "            nn.Linear(64 * 4 * 4, 128),\n",
    "            nn.ReLU(),\n",
    "            nn.Linear(128, 128),\n",
    "            nn.ReLU(),\n",
    "            nn.Linear(128, num_classes))\n",
    "\n",
    "    def forward(self, x):\n",
    "        x = self.layer1(x)\n",
    "        x = self.layer2(x)\n",
    "        x = self.layer3(x)\n",
    "        x = self.layer4(x)\n",
    "        x = self.layer5(x)\n",
    "        x = x.view(x.size(0), -1)\n",
    "        x = self.fc(x)\n",
    "        return x\n",
    "\n",
    "model = Net(in_channels=n_channels, num_classes=n_classes)\n",
    "    \n",
    "# define loss function and optimizer\n",
    "if task == \"multi-label, binary-class\":\n",
    "    criterion = nn.BCEWithLogitsLoss()\n",
    "else:\n",
    "    criterion = nn.CrossEntropyLoss()\n",
    "    \n",
    "optimizer = optim.SGD(model.parameters(), lr=lr, momentum=0.9)"
   ]
  },
  {
   "cell_type": "code",
   "execution_count": 37,
   "id": "c644031c",
   "metadata": {},
   "outputs": [
    {
     "name": "stderr",
     "output_type": "stream",
     "text": [
      "100%|██████████████████████████████████████████████████████████████████████████| 704/704 [02:40<00:00,  4.39it/s]\n",
      "100%|██████████████████████████████████████████████████████████████████████████| 704/704 [02:38<00:00,  4.45it/s]\n",
      "100%|██████████████████████████████████████████████████████████████████████████| 704/704 [02:39<00:00,  4.41it/s]\n"
     ]
    }
   ],
   "source": [
    "# train\n",
    "\n",
    "for epoch in range(NUM_EPOCHS):\n",
    "    train_correct = 0\n",
    "    train_total = 0\n",
    "    test_correct = 0\n",
    "    test_total = 0\n",
    "    \n",
    "    model.train()\n",
    "    for inputs, targets in tqdm(train_loader):\n",
    "        # forward + backward + optimize\n",
    "        optimizer.zero_grad()\n",
    "        outputs = model(inputs)\n",
    "        \n",
    "        if task == 'multi-label, binary-class':\n",
    "            targets = targets.to(torch.float32)\n",
    "            loss = criterion(outputs, targets)\n",
    "        else:\n",
    "            targets = targets.squeeze().long()\n",
    "            loss = criterion(outputs, targets)\n",
    "        \n",
    "        loss.backward()\n",
    "        optimizer.step()"
   ]
  },
  {
   "cell_type": "code",
   "execution_count": 40,
   "id": "958a693b",
   "metadata": {},
   "outputs": [
    {
     "name": "stdout",
     "output_type": "stream",
     "text": [
      "==> Evaluating ...\n",
      "train  auc: 0.976  acc:0.755\n",
      "test  auc: 0.958  acc:0.653\n"
     ]
    }
   ],
   "source": [
    "# evaluation\n",
    "\n",
    "def test(split):\n",
    "    model.eval()\n",
    "    y_true = torch.tensor([])\n",
    "    y_score = torch.tensor([])\n",
    "    \n",
    "    data_loader = train_loader_at_eval if split == 'train' else test_loader\n",
    "\n",
    "    with torch.no_grad():\n",
    "        for inputs, targets in data_loader:\n",
    "            outputs = model(inputs)\n",
    "\n",
    "            if task == 'multi-label, binary-class':\n",
    "                targets = targets.to(torch.float32)\n",
    "                outputs = outputs.softmax(dim=-1)\n",
    "            else:\n",
    "                targets = targets.squeeze().long()\n",
    "                outputs = outputs.softmax(dim=-1)\n",
    "                targets = targets.float().resize_(len(targets), 1)\n",
    "\n",
    "            y_true = torch.cat((y_true, targets), 0)\n",
    "            y_score = torch.cat((y_score, outputs), 0)\n",
    "\n",
    "        y_true = y_true.numpy()\n",
    "        y_score = y_score.detach().numpy()\n",
    "        \n",
    "        evaluator = Evaluator(data_flag, split)\n",
    "        metrics = evaluator.evaluate(y_score)\n",
    "    \n",
    "        print('%s  auc: %.3f  acc:%.3f' % (split, *metrics))\n",
    "\n",
    "        \n",
    "print('==> Evaluating ...')\n",
    "test('train')\n",
    "test('test')"
   ]
  },
  {
   "cell_type": "code",
   "execution_count": null,
   "id": "c5b51c55",
   "metadata": {},
   "outputs": [],
   "source": []
  }
 ],
 "metadata": {
  "kernelspec": {
   "display_name": "local_gan",
   "language": "python",
   "name": "local_gan"
  },
  "language_info": {
   "codemirror_mode": {
    "name": "ipython",
    "version": 3
   },
   "file_extension": ".py",
   "mimetype": "text/x-python",
   "name": "python",
   "nbconvert_exporter": "python",
   "pygments_lexer": "ipython3",
   "version": "3.8.13"
  }
 },
 "nbformat": 4,
 "nbformat_minor": 5
}
