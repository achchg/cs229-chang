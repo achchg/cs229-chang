{
 "cells": [
  {
   "cell_type": "code",
   "execution_count": 12,
   "id": "a3b6462f",
   "metadata": {},
   "outputs": [],
   "source": [
    "from collections import defaultdict\n",
    "import time\n",
    "import os\n",
    "\n",
    "import numpy as np\n",
    "\n",
    "from tqdm import tqdm\n",
    "\n",
    "import torch\n",
    "from torchvision import transforms\n",
    "from torch.utils.data import DataLoader\n",
    "from torch import autograd, optim\n",
    "import torch.backends.cudnn as cudnn\n",
    "import torch.nn as nn\n",
    "\n",
    "import torchvision.utils as vutils\n",
    "\n",
    "cudnn.benchmark = True\n",
    "import matplotlib.pyplot as plt\n",
    "%matplotlib inline\n",
    "\n",
    "import warnings\n",
    "warnings.filterwarnings(\"ignore\")"
   ]
  },
  {
   "cell_type": "code",
   "execution_count": 13,
   "id": "5fcafa0a",
   "metadata": {},
   "outputs": [
    {
     "name": "stdout",
     "output_type": "stream",
     "text": [
      "MedMNIST v2.0.2 @ https://github.com/MedMNIST/MedMNIST/\n"
     ]
    }
   ],
   "source": [
    "import medmnist\n",
    "from medmnist import INFO, Evaluator\n",
    "print(f\"MedMNIST v{medmnist.__version__} @ {medmnist.HOMEPAGE}\")"
   ]
  },
  {
   "cell_type": "code",
   "execution_count": 14,
   "id": "a14fe777",
   "metadata": {
    "scrolled": true
   },
   "outputs": [
    {
     "name": "stdout",
     "output_type": "stream",
     "text": [
      "{'pathmnist': {'train': 89996, 'val': 10004, 'test': 7180}, 'chestmnist': {'train': 78468, 'val': 11219, 'test': 22433}, 'dermamnist': {'train': 7007, 'val': 1003, 'test': 2005}, 'octmnist': {'train': 97477, 'val': 10832, 'test': 1000}, 'pneumoniamnist': {'train': 4708, 'val': 524, 'test': 624}, 'retinamnist': {'train': 1080, 'val': 120, 'test': 400}, 'breastmnist': {'train': 546, 'val': 78, 'test': 156}, 'bloodmnist': {'train': 11959, 'val': 1712, 'test': 3421}, 'tissuemnist': {'train': 165466, 'val': 23640, 'test': 47280}, 'organamnist': {'train': 34581, 'val': 6491, 'test': 17778}, 'organcmnist': {'train': 13000, 'val': 2392, 'test': 8268}, 'organsmnist': {'train': 13940, 'val': 2452, 'test': 8829}, 'organmnist3d': {'train': 972, 'val': 161, 'test': 610}, 'nodulemnist3d': {'train': 1158, 'val': 165, 'test': 526}, 'adrenalmnist3d': {'train': 1188, 'val': 98, 'test': 298}, 'fracturemnist3d': {'train': 1027, 'val': 103, 'test': 240}, 'vesselmnist3d': {'train': 1335, 'val': 192, 'test': 382}, 'synapsemnist3d': {'train': 1230, 'val': 177, 'test': 352}}\n"
     ]
    }
   ],
   "source": [
    "data_size = dict()\n",
    "\n",
    "for data_flag in INFO.keys():\n",
    "    n_samples = INFO[data_flag]['n_samples']\n",
    "    data_size[data_flag] = n_samples\n",
    "    \n",
    "print(data_size)"
   ]
  },
  {
   "cell_type": "code",
   "execution_count": 16,
   "id": "ab6887ec",
   "metadata": {},
   "outputs": [],
   "source": [
    "data_flag = 'organamnist'\n",
    "download = True\n",
    "\n",
    "NUM_EPOCHS = 3\n",
    "BATCH_SIZE = 128\n",
    "lr = 0.001\n",
    "\n",
    "info = INFO[data_flag]\n",
    "task = info['task']\n",
    "n_channels = info['n_channels']\n",
    "n_classes = len(info['label'])\n",
    "\n",
    "DataClass = getattr(medmnist, info['python_class'])"
   ]
  },
  {
   "cell_type": "code",
   "execution_count": 17,
   "id": "e9e3b73e",
   "metadata": {},
   "outputs": [
    {
     "data": {
      "text/plain": [
       "(medmnist.dataset.OrganAMNIST, 1, 11)"
      ]
     },
     "execution_count": 17,
     "metadata": {},
     "output_type": "execute_result"
    }
   ],
   "source": [
    "DataClass, n_channels, n_classes"
   ]
  },
  {
   "cell_type": "code",
   "execution_count": 20,
   "id": "c15862c8",
   "metadata": {},
   "outputs": [
    {
     "name": "stdout",
     "output_type": "stream",
     "text": [
      "Using downloaded and verified file: /Users/chi-hsuanchang/.medmnist/organamnist.npz\n",
      "Using downloaded and verified file: /Users/chi-hsuanchang/.medmnist/organamnist.npz\n",
      "Using downloaded and verified file: /Users/chi-hsuanchang/.medmnist/organamnist.npz\n"
     ]
    }
   ],
   "source": [
    "# preprocessing\n",
    "data_transform = transforms.Compose([\n",
    "    transforms.ToTensor(),\n",
    "    transforms.Normalize(mean=[.5], std=[.5])\n",
    "])\n",
    "\n",
    "# load the data\n",
    "train_dataset = DataClass(split='train', transform=data_transform, download=download)\n",
    "test_dataset = DataClass(split='test', transform=data_transform, download=download)\n",
    "\n",
    "pil_dataset = DataClass(split='train', download=download)\n",
    "\n",
    "# encapsulate data into dataloader form\n",
    "train_loader = DataLoader(dataset=train_dataset, \n",
    "                               batch_size=BATCH_SIZE, \n",
    "                               shuffle=True)\n",
    "\n",
    "train_loader_at_eval = DataLoader(dataset=train_dataset, \n",
    "                                       batch_size=2*BATCH_SIZE, \n",
    "                                       shuffle=False)\n",
    "\n",
    "test_loader = DataLoader(dataset=test_dataset, \n",
    "                              batch_size=2*BATCH_SIZE, \n",
    "                              shuffle=False)"
   ]
  },
  {
   "cell_type": "code",
   "execution_count": 21,
   "id": "1fff30d1",
   "metadata": {},
   "outputs": [
    {
     "data": {
      "image/png": "[encoded data removed]",
      "text/plain": [
       "<PIL.Image.Image image mode=L size=56x56>"
      ]
     },
     "execution_count": 21,
     "metadata": {},
     "output_type": "execute_result"
    }
   ],
   "source": [
    "# visualization\n",
    "train_dataset.montage(length=2)"
   ]
  },
  {
   "cell_type": "code",
   "execution_count": 8,
   "id": "1b4c7f0b",
   "metadata": {},
   "outputs": [
    {
     "data": {
      "text/plain": [
       "tensor([[ 0.5418, -0.5662,  2.6271, -0.5097]])"
      ]
     },
     "execution_count": 8,
     "metadata": {},
     "output_type": "execute_result"
    }
   ],
   "source": [
    "\n",
    "    add_random_noise(mean=0.2, std=0.1)"
   ]
  },
  {
   "cell_type": "code",
   "execution_count": 10,
   "id": "f45c75c5",
   "metadata": {},
   "outputs": [],
   "source": [
    "import utils\n",
    "from utils.preprocessing import * "
   ]
  },
  {
   "cell_type": "code",
   "execution_count": 15,
   "id": "90551175",
   "metadata": {},
   "outputs": [
    {
     "data": {
      "text/plain": [
       "{'python_class': 'OrganAMNIST',\n",
       " 'description': 'The OrganAMNIST is based on 3D computed tomography (CT) images from Liver Tumor Segmentation Benchmark (LiTS). It is renamed from OrganMNIST_Axial (in MedMNIST v1) for simplicity. We use bounding-box annotations of 11 body organs from another study to obtain the organ labels. Hounsfield-Unit (HU) of the 3D images are transformed into gray-scale with an abdominal window. We crop 2D images from the center slices of the 3D bounding boxes in axial views (planes). The images are resized into 1×28×28 to perform multi-class classification of 11 body organs. 115 and 16 CT scans from the source training set are used as training and validation set, respectively. The 70 CT scans from the source test set are treated as the test set.',\n",
       " 'url': 'https://zenodo.org/record/5208230/files/organamnist.npz?download=1',\n",
       " 'MD5': '866b832ed4eeba67bfb9edee1d5544e6',\n",
       " 'task': 'multi-class',\n",
       " 'label': {'0': 'bladder',\n",
       "  '1': 'femur-left',\n",
       "  '2': 'femur-right',\n",
       "  '3': 'heart',\n",
       "  '4': 'kidney-left',\n",
       "  '5': 'kidney-right',\n",
       "  '6': 'liver',\n",
       "  '7': 'lung-left',\n",
       "  '8': 'lung-right',\n",
       "  '9': 'pancreas',\n",
       "  '10': 'spleen'},\n",
       " 'n_channels': 1,\n",
       " 'n_samples': {'train': 34581, 'val': 6491, 'test': 17778},\n",
       " 'license': 'CC BY 4.0'}"
      ]
     },
     "execution_count": 15,
     "metadata": {},
     "output_type": "execute_result"
    }
   ],
   "source": [
    "INFO['organamnist']"
   ]
  },
  {
   "cell_type": "code",
   "execution_count": 17,
   "id": "dbf46077",
   "metadata": {},
   "outputs": [
    {
     "data": {
      "text/plain": [
       "{'python_class': 'OrganSMNIST',\n",
       " 'description': 'The OrganSMNIST is based on 3D computed tomography (CT) images from Liver Tumor Segmentation Benchmark (LiTS). It is renamed from OrganMNIST_Sagittal (in MedMNIST v1) for simplicity. We use bounding-box annotations of 11 body organs from another study to obtain the organ labels. Hounsfield-Unit (HU) of the 3D images are transformed into gray-scale with an abdominal window. We crop 2D images from the center slices of the 3D bounding boxes in sagittal views (planes). The images are resized into 1×28×28 to perform multi-class classification of 11 body organs. 115 and 16 CT scans from the source training set are used as training and validation set, respectively. The 70 CT scans from the source test set are treated as the test set.',\n",
       " 'url': 'https://zenodo.org/record/5208230/files/organsmnist.npz?download=1',\n",
       " 'MD5': 'e5c39f1af030238290b9557d9503af9d',\n",
       " 'task': 'multi-class',\n",
       " 'label': {'0': 'bladder',\n",
       "  '1': 'femur-left',\n",
       "  '2': 'femur-right',\n",
       "  '3': 'heart',\n",
       "  '4': 'kidney-left',\n",
       "  '5': 'kidney-right',\n",
       "  '6': 'liver',\n",
       "  '7': 'lung-left',\n",
       "  '8': 'lung-right',\n",
       "  '9': 'pancreas',\n",
       "  '10': 'spleen'},\n",
       " 'n_channels': 1,\n",
       " 'n_samples': {'train': 13940, 'val': 2452, 'test': 8829},\n",
       " 'license': 'CC BY 4.0'}"
      ]
     },
     "execution_count": 17,
     "metadata": {},
     "output_type": "execute_result"
    }
   ],
   "source": [
    "INFO['organsmnist']"
   ]
  },
  {
   "cell_type": "code",
   "execution_count": 19,
   "id": "ca5143dc",
   "metadata": {},
   "outputs": [
    {
     "data": {
      "text/plain": [
       "{'python_class': 'OrganCMNIST',\n",
       " 'description': 'The OrganCMNIST is based on 3D computed tomography (CT) images from Liver Tumor Segmentation Benchmark (LiTS). It is renamed from OrganMNIST_Coronal (in MedMNIST v1) for simplicity. We use bounding-box annotations of 11 body organs from another study to obtain the organ labels. Hounsfield-Unit (HU) of the 3D images are transformed into gray-scale with an abdominal window. We crop 2D images from the center slices of the 3D bounding boxes in coronal views (planes). The images are resized into 1×28×28 to perform multi-class classification of 11 body organs. 115 and 16 CT scans from the source training set are used as training and validation set, respectively. The 70 CT scans from the source test set are treated as the test set.',\n",
       " 'url': 'https://zenodo.org/record/5208230/files/organcmnist.npz?download=1',\n",
       " 'MD5': '0afa5834fb105f7705a7d93372119a21',\n",
       " 'task': 'multi-class',\n",
       " 'label': {'0': 'bladder',\n",
       "  '1': 'femur-left',\n",
       "  '2': 'femur-right',\n",
       "  '3': 'heart',\n",
       "  '4': 'kidney-left',\n",
       "  '5': 'kidney-right',\n",
       "  '6': 'liver',\n",
       "  '7': 'lung-left',\n",
       "  '8': 'lung-right',\n",
       "  '9': 'pancreas',\n",
       "  '10': 'spleen'},\n",
       " 'n_channels': 1,\n",
       " 'n_samples': {'train': 13000, 'val': 2392, 'test': 8268},\n",
       " 'license': 'CC BY 4.0'}"
      ]
     },
     "execution_count": 19,
     "metadata": {},
     "output_type": "execute_result"
    }
   ],
   "source": [
    "INFO['organcmnist']"
   ]
  },
  {
   "cell_type": "code",
   "execution_count": 20,
   "id": "abcb5aac",
   "metadata": {},
   "outputs": [
    {
     "data": {
      "text/plain": [
       "{'python_class': 'OrganMNIST3D',\n",
       " 'description': 'The source of the OrganMNIST3D is the same as that of the Organ{A,C,S}MNIST. Instead of 2D images, we directly use the 3D bounding boxes and process the images into 28×28×28 to perform multi-class classification of 11 body organs. The same 115 and 16 CT scans as the Organ{A,C,S}MNIST from the source training set are used as training and validation set, respectively, and the same 70 CT scans as the Organ{A,C,S}MNIST from the source test set are treated as the test set.',\n",
       " 'url': 'https://zenodo.org/record/5208230/files/organmnist3d.npz?download=1',\n",
       " 'MD5': '21f0a239e7f502e6eca33c3fc453c0b6',\n",
       " 'task': 'multi-class',\n",
       " 'label': {'0': 'liver',\n",
       "  '1': 'kidney-right',\n",
       "  '2': 'kidney-left',\n",
       "  '3': 'femur-right',\n",
       "  '4': 'femur-left',\n",
       "  '5': 'bladder',\n",
       "  '6': 'heart',\n",
       "  '7': 'lung-right',\n",
       "  '8': 'lung-left',\n",
       "  '9': 'spleen',\n",
       "  '10': 'pancreas'},\n",
       " 'n_channels': 1,\n",
       " 'n_samples': {'train': 972, 'val': 161, 'test': 610},\n",
       " 'license': 'CC BY 4.0'}"
      ]
     },
     "execution_count": 20,
     "metadata": {},
     "output_type": "execute_result"
    }
   ],
   "source": [
    "INFO['organmnist3d']"
   ]
  },
  {
   "cell_type": "code",
   "execution_count": null,
   "id": "048a177c",
   "metadata": {},
   "outputs": [],
   "source": []
  }
 ],
 "metadata": {
  "kernelspec": {
   "display_name": "local_gan",
   "language": "python",
   "name": "local_gan"
  },
  "language_info": {
   "codemirror_mode": {
    "name": "ipython",
    "version": 3
   },
   "file_extension": ".py",
   "mimetype": "text/x-python",
   "name": "python",
   "nbconvert_exporter": "python",
   "pygments_lexer": "ipython3",
   "version": "3.8.13"
  }
 },
 "nbformat": 4,
 "nbformat_minor": 5
}
